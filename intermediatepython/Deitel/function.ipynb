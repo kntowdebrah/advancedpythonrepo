{
 "cells": [
  {
   "cell_type": "code",
   "execution_count": 1,
   "id": "0542d698",
   "metadata": {},
   "outputs": [
    {
     "data": {
      "text/plain": [
       "49"
      ]
     },
     "execution_count": 1,
     "metadata": {},
     "output_type": "execute_result"
    }
   ],
   "source": [
    "def square(number):\n",
    "    \"\"\"Calculate the square of number.\"\"\"\n",
    "    return number ** 2\n",
    "\n",
    "square(7)"
   ]
  },
  {
   "cell_type": "code",
   "execution_count": 2,
   "id": "db45b9da",
   "metadata": {},
   "outputs": [
    {
     "data": {
      "text/plain": [
       "6.25"
      ]
     },
     "execution_count": 2,
     "metadata": {},
     "output_type": "execute_result"
    }
   ],
   "source": [
    "square(2.5)"
   ]
  },
  {
   "cell_type": "code",
   "execution_count": 3,
   "id": "6fe42043",
   "metadata": {},
   "outputs": [
    {
     "name": "stdout",
     "output_type": "stream",
     "text": [
      "The square of 7 is 49\n"
     ]
    }
   ],
   "source": [
    "print('The square of 7 is', square(7))"
   ]
  },
  {
   "cell_type": "code",
   "execution_count": 4,
   "id": "6a58c4f4",
   "metadata": {},
   "outputs": [
    {
     "data": {
      "text/plain": [
       "36"
      ]
     },
     "execution_count": 4,
     "metadata": {},
     "output_type": "execute_result"
    }
   ],
   "source": [
    "def maximum(value1, value2, value3):\n",
    "    \"\"\"Return the maximum of three values.\"\"\"\n",
    "    max_value = value1\n",
    "    if value2 > max_value:\n",
    "        max_value = value2\n",
    "        \n",
    "    if value3 > max_value:\n",
    "        max_value = value3\n",
    "        \n",
    "    return max_value \n",
    "\n",
    "maximum(12, 27, 36)"
   ]
  },
  {
   "cell_type": "code",
   "execution_count": 5,
   "id": "ffdbd3f3",
   "metadata": {},
   "outputs": [
    {
     "data": {
      "text/plain": [
       "45.6"
      ]
     },
     "execution_count": 5,
     "metadata": {},
     "output_type": "execute_result"
    }
   ],
   "source": [
    "maximum(12.3, 45.6, 9.7)"
   ]
  },
  {
   "cell_type": "code",
   "execution_count": 6,
   "id": "b3d234c0",
   "metadata": {},
   "outputs": [
    {
     "data": {
      "text/plain": [
       "'yellow'"
      ]
     },
     "execution_count": 6,
     "metadata": {},
     "output_type": "execute_result"
    }
   ],
   "source": [
    "maximum('yellow', 'red', 'orange')"
   ]
  },
  {
   "cell_type": "code",
   "execution_count": 7,
   "id": "72ad7942",
   "metadata": {},
   "outputs": [
    {
     "data": {
      "text/plain": [
       "13.5"
      ]
     },
     "execution_count": 7,
     "metadata": {},
     "output_type": "execute_result"
    }
   ],
   "source": [
    "maximum(13.5, -3, 7)"
   ]
  },
  {
   "cell_type": "code",
   "execution_count": 8,
   "id": "a5e5018c",
   "metadata": {},
   "outputs": [
    {
     "data": {
      "text/plain": [
       "'yellow'"
      ]
     },
     "execution_count": 8,
     "metadata": {},
     "output_type": "execute_result"
    }
   ],
   "source": [
    "max('yellow', 'red', 'orange', 'blue', 'green')"
   ]
  },
  {
   "cell_type": "code",
   "execution_count": 9,
   "id": "1069d006",
   "metadata": {},
   "outputs": [
    {
     "data": {
      "text/plain": [
       "9"
      ]
     },
     "execution_count": 9,
     "metadata": {},
     "output_type": "execute_result"
    }
   ],
   "source": [
    "min(15, 9, 27, 14)"
   ]
  },
  {
   "cell_type": "code",
   "execution_count": 13,
   "id": "5df79a83",
   "metadata": {},
   "outputs": [
    {
     "name": "stdout",
     "output_type": "stream",
     "text": [
      "2 5 1 5 3 5 1 3 2 3 "
     ]
    }
   ],
   "source": [
    "import random \n",
    "\n",
    "for roll in range(10):\n",
    "    print(random.randrange(1, 7), end=' ')"
   ]
  },
  {
   "cell_type": "code",
   "execution_count": 19,
   "id": "257b0611",
   "metadata": {},
   "outputs": [
    {
     "name": "stdout",
     "output_type": "stream",
     "text": [
      "Face    Frequency\n",
      "   1      1000175\n",
      "   2      1000657\n",
      "   3      1000265\n",
      "   4       998518\n",
      "   5       999741\n",
      "   6      1000644\n"
     ]
    }
   ],
   "source": [
    "#rolling a dice six times. \n",
    "import random \n",
    "\n",
    "# face frequency counters\n",
    "frequency1 = 0\n",
    "frequency2 = 0\n",
    "frequency3 = 0\n",
    "frequency4 = 0\n",
    "frequency5 = 0\n",
    "frequency6 = 0\n",
    "\n",
    "# 6,000, 000 die rolls \n",
    "for roll in range(6_000_000): # note underscore separtors\n",
    "    face = random.randrange(1, 7)\n",
    "    \n",
    "    # increment appropriate face counter\n",
    "    if face == 1:\n",
    "        frequency1 += 1\n",
    "    elif face == 2:\n",
    "        frequency2 += 1\n",
    "    elif face == 3:\n",
    "        frequency3 += 1\n",
    "    elif face == 4:\n",
    "        frequency4 += 1\n",
    "    elif face == 5:\n",
    "        frequency5 += 1\n",
    "    elif face == 6:\n",
    "        frequency6 += 1\n",
    "        \n",
    "\n",
    "print(f'Face{\"Frequency\":>13}')\n",
    "print(f'{1:>4}{frequency1:>13}')\n",
    "print(f'{2:>4}{frequency2:>13}')\n",
    "print(f'{3:>4}{frequency3:>13}')\n",
    "print(f'{4:>4}{frequency4:>13}')\n",
    "print(f'{5:>4}{frequency5:>13}')\n",
    "print(f'{6:>4}{frequency6:>13}')"
   ]
  },
  {
   "cell_type": "code",
   "execution_count": 32,
   "id": "1a2fc704",
   "metadata": {},
   "outputs": [
    {
     "name": "stdout",
     "output_type": "stream",
     "text": [
      "1 2 2 3 6 2 4 1 6 1 "
     ]
    }
   ],
   "source": [
    "random.seed(32)\n",
    "\n",
    "for roll in range(10):\n",
    "    print(random.randrange(1, 7), end=' ')"
   ]
  },
  {
   "cell_type": "code",
   "execution_count": 28,
   "id": "3c7843d1",
   "metadata": {},
   "outputs": [
    {
     "name": "stdout",
     "output_type": "stream",
     "text": [
      "1 4 1 1 5 3 2 2 4 3 "
     ]
    }
   ],
   "source": [
    "for roll in range(10):\n",
    "    print(random.randrange(1, 7), end=' ')"
   ]
  },
  {
   "cell_type": "code",
   "execution_count": 39,
   "id": "2791b293",
   "metadata": {},
   "outputs": [
    {
     "name": "stdout",
     "output_type": "stream",
     "text": [
      "Player rolled 6 + 3 = 9\n",
      "Point is 9\n",
      "Player rolled 5 + 5 = 10\n",
      "Player rolled 5 + 1 = 6\n",
      "Player rolled 1 + 5 = 6\n",
      "Player rolled 3 + 2 = 5\n",
      "Player rolled 3 + 3 = 6\n",
      "Player rolled 1 + 2 = 3\n",
      "Player rolled 6 + 4 = 10\n",
      "Player rolled 3 + 4 = 7\n",
      "Player loses\n"
     ]
    }
   ],
   "source": [
    "#fig04_02.py\n",
    "\"\"\"Simulating the dice game Craps.\"\"\"\n",
    "import random \n",
    "\n",
    "def roll_dice():\n",
    "    \"\"\"Roll two dice and return their face values as a tuple\"\"\"\n",
    "    die1 = random.randrange(1, 7)\n",
    "    die2 = random.randrange(1, 7)\n",
    "    return (die1, die2) #pack die face values into a tuple\n",
    "\n",
    "def display_dice(dice):\n",
    "    \"\"\"Display one roll of the two dice\"\"\"\n",
    "    die1, die2 = dice # unpack the tuple into various variables.\n",
    "    print(f'Player rolled {die1} + {die2} = {sum(dice)}')\n",
    "    \n",
    "die_values = roll_dice() # first roll\n",
    "display_dice(die_values)\n",
    "\n",
    "# determine game status and point, based on first roll\n",
    "sum_of_dice = sum(die_values)\n",
    "\n",
    "if sum_of_dice in (7, 11): # win\n",
    "    game_status = 'WON'\n",
    "elif sum_of_dice in (2, 3, 12): # lose\n",
    "    game_status = 'LOST'\n",
    "else: # remember point \n",
    "    game_status = 'CONTINUE'\n",
    "    my_point = sum_of_dice\n",
    "    print('Point is', my_point)\n",
    "    \n",
    "# continue rolling until player wins or loses\n",
    "while game_status == 'CONTINUE':\n",
    "    die_values = roll_dice()\n",
    "    display_dice(die_values)\n",
    "    sum_of_dice = sum(die_values)\n",
    "    \n",
    "    if sum_of_dice == my_point: # win by making point\n",
    "        game_status = 'WON'\n",
    "    elif sum_of_dice == 7:\n",
    "        game_status = 'LOST'\n",
    "        \n",
    "        \n",
    "# display 'wins' or 'loses' message\n",
    "if game_status == 'WON':\n",
    "    print('Player wins')\n",
    "else:\n",
    "    print('Player loses')"
   ]
  },
  {
   "cell_type": "code",
   "execution_count": 41,
   "id": "8262d620",
   "metadata": {},
   "outputs": [
    {
     "data": {
      "text/plain": [
       "6"
      ]
     },
     "execution_count": 41,
     "metadata": {},
     "output_type": "execute_result"
    }
   ],
   "source": [
    "#using default parameters \n",
    "def rectangle_area(length=2, width=3):\n",
    "    \"\"\"Return a rectangle's area.\"\"\"\n",
    "    return length * width\n",
    "\n",
    "\n",
    "rectangle_area()"
   ]
  },
  {
   "cell_type": "code",
   "execution_count": 42,
   "id": "0f970126",
   "metadata": {},
   "outputs": [
    {
     "data": {
      "text/plain": [
       "30"
      ]
     },
     "execution_count": 42,
     "metadata": {},
     "output_type": "execute_result"
    }
   ],
   "source": [
    "rectangle_area(10)"
   ]
  },
  {
   "cell_type": "code",
   "execution_count": 43,
   "id": "706125d0",
   "metadata": {},
   "outputs": [
    {
     "data": {
      "text/plain": [
       "50"
      ]
     },
     "execution_count": 43,
     "metadata": {},
     "output_type": "execute_result"
    }
   ],
   "source": [
    "rectangle_area(10,5)"
   ]
  },
  {
   "cell_type": "code",
   "execution_count": 44,
   "id": "9b93aa97",
   "metadata": {},
   "outputs": [],
   "source": [
    "def average(*args):\n",
    "    return sum(args) / len(args)"
   ]
  },
  {
   "cell_type": "code",
   "execution_count": 45,
   "id": "31a82b22",
   "metadata": {},
   "outputs": [
    {
     "data": {
      "text/plain": [
       "7.5"
      ]
     },
     "execution_count": 45,
     "metadata": {},
     "output_type": "execute_result"
    }
   ],
   "source": [
    "average(5, 10)"
   ]
  },
  {
   "cell_type": "code",
   "execution_count": 46,
   "id": "4a70d93a",
   "metadata": {},
   "outputs": [
    {
     "data": {
      "text/plain": [
       "10.0"
      ]
     },
     "execution_count": 46,
     "metadata": {},
     "output_type": "execute_result"
    }
   ],
   "source": [
    "average(5, 10, 15)"
   ]
  },
  {
   "cell_type": "code",
   "execution_count": 47,
   "id": "48a9d171",
   "metadata": {},
   "outputs": [
    {
     "data": {
      "text/plain": [
       "12.5"
      ]
     },
     "execution_count": 47,
     "metadata": {},
     "output_type": "execute_result"
    }
   ],
   "source": [
    "average(5, 10, 15, 20)"
   ]
  },
  {
   "cell_type": "code",
   "execution_count": 51,
   "id": "7f4f28c2",
   "metadata": {},
   "outputs": [
    {
     "data": {
      "text/plain": [
       "79.4"
      ]
     },
     "execution_count": 51,
     "metadata": {},
     "output_type": "execute_result"
    }
   ],
   "source": [
    "grades = [88, 75, 96, 55, 83]\n",
    "\n",
    "average(*grades) # equivalent to average(88, 96, 55, 83)"
   ]
  },
  {
   "cell_type": "code",
   "execution_count": 52,
   "id": "b369b97d",
   "metadata": {},
   "outputs": [
    {
     "data": {
      "text/plain": [
       "'hello'"
      ]
     },
     "execution_count": 52,
     "metadata": {},
     "output_type": "execute_result"
    }
   ],
   "source": [
    "s = 'Hello'\n",
    "\n",
    "s.lower()"
   ]
  },
  {
   "cell_type": "code",
   "execution_count": 53,
   "id": "c2341182",
   "metadata": {},
   "outputs": [
    {
     "data": {
      "text/plain": [
       "'HELLO'"
      ]
     },
     "execution_count": 53,
     "metadata": {},
     "output_type": "execute_result"
    }
   ],
   "source": [
    "s.upper()\n"
   ]
  },
  {
   "cell_type": "code",
   "execution_count": 57,
   "id": "740b2121",
   "metadata": {},
   "outputs": [
    {
     "name": "stdout",
     "output_type": "stream",
     "text": [
      "x printed from modify_global: hello\n"
     ]
    }
   ],
   "source": [
    "#understanding scope of variables\n",
    "x = 7\n",
    "\n",
    "def access_global():\n",
    "    print('x printed from access_global', x)\n",
    "    \n",
    "def try_to_modify_global():\n",
    "    x = 3.5\n",
    "    print('x printed from try_to_modify_global:', x)\n",
    "    \n",
    "    \n",
    "def modify_global():\n",
    "    global x\n",
    "    x = 'hello'\n",
    "    print('x printed from modify_global:',x)\n",
    "    \n",
    "\n",
    "#access_global()\n",
    "#try_to_modify_global()\n",
    "modify_global()"
   ]
  },
  {
   "cell_type": "code",
   "execution_count": 58,
   "id": "f3836e46",
   "metadata": {},
   "outputs": [
    {
     "data": {
      "text/plain": [
       "15"
      ]
     },
     "execution_count": 58,
     "metadata": {},
     "output_type": "execute_result"
    }
   ],
   "source": [
    "sum = 10 + 5\n",
    "sum"
   ]
  },
  {
   "cell_type": "code",
   "execution_count": 65,
   "id": "9e948f27",
   "metadata": {},
   "outputs": [
    {
     "name": "stdout",
     "output_type": "stream",
     "text": [
      "Your gross pay is:  475.0\n"
     ]
    }
   ],
   "source": [
    "#collecting data\n",
    "hours_worked = int(input('Enter hours worked'))\n",
    "rate_of_pay = float(input('Enter rate of pay'))\n",
    "\n",
    "gross_pay = 0\n",
    "\n",
    "if hours_worked <= 40:\n",
    "    gross_pay = hours_worked * rate_of_pay\n",
    "else:\n",
    "    overtime_rate = 1.5 * rate_of_pay\n",
    "    overtime_pay = (hours_worked - 40) * overtime_rate\n",
    "    gross_pay = 40 * rate_of_pay + overtime_pay\n",
    "    \n",
    "\n",
    "print('Your gross pay is: ', gross_pay)"
   ]
  },
  {
   "cell_type": "code",
   "execution_count": null,
   "id": "26485202",
   "metadata": {},
   "outputs": [],
   "source": [
    "n = 5\n",
    "while n > 0:\n",
    "    print('Lather')\n",
    "    print('Rinse')\n",
    "print('Dry off!')"
   ]
  },
  {
   "cell_type": "code",
   "execution_count": 70,
   "id": "6a92c473",
   "metadata": {},
   "outputs": [
    {
     "name": "stdout",
     "output_type": "stream",
     "text": [
      "Dry Off!\n"
     ]
    }
   ],
   "source": [
    "n = 0\n",
    "while n > 0:\n",
    "    print('Lather')\n",
    "    print('Rinse')\n",
    "print('Dry Off!')"
   ]
  },
  {
   "cell_type": "code",
   "execution_count": 71,
   "id": "ea952f5c",
   "metadata": {},
   "outputs": [
    {
     "data": {
      "text/plain": [
       "11"
      ]
     },
     "execution_count": 71,
     "metadata": {},
     "output_type": "execute_result"
    }
   ],
   "source": [
    "from math import ceil, floor\n",
    "\n",
    "ceil(10.3)"
   ]
  },
  {
   "cell_type": "code",
   "execution_count": 72,
   "id": "bbb89cbb",
   "metadata": {},
   "outputs": [
    {
     "data": {
      "text/plain": [
       "10"
      ]
     },
     "execution_count": 72,
     "metadata": {},
     "output_type": "execute_result"
    }
   ],
   "source": [
    "floor(10.7)"
   ]
  },
  {
   "cell_type": "code",
   "execution_count": 73,
   "id": "a5ec9e79",
   "metadata": {},
   "outputs": [
    {
     "data": {
      "text/plain": [
       "78.6"
      ]
     },
     "execution_count": 73,
     "metadata": {},
     "output_type": "execute_result"
    }
   ],
   "source": [
    "import statistics as stats\n",
    "\n",
    "grades = [85, 93, 45, 87, 83]\n",
    "\n",
    "stats.mean(grades)"
   ]
  },
  {
   "cell_type": "code",
   "execution_count": 1,
   "id": "eef442e1",
   "metadata": {},
   "outputs": [
    {
     "data": {
      "text/plain": [
       "140727760352232"
      ]
     },
     "execution_count": 1,
     "metadata": {},
     "output_type": "execute_result"
    }
   ],
   "source": [
    "x = 7\n",
    "\n",
    "id(x)"
   ]
  },
  {
   "cell_type": "code",
   "execution_count": 3,
   "id": "0196126c",
   "metadata": {},
   "outputs": [
    {
     "name": "stdout",
     "output_type": "stream",
     "text": [
      "id(number): 140727760352232\n"
     ]
    },
    {
     "data": {
      "text/plain": [
       "343"
      ]
     },
     "execution_count": 3,
     "metadata": {},
     "output_type": "execute_result"
    }
   ],
   "source": [
    "def cube(number):\n",
    "    print('id(number):',id(number))\n",
    "    return number ** 3\n",
    "\n",
    "cube(x)"
   ]
  },
  {
   "cell_type": "code",
   "execution_count": 4,
   "id": "ba421503",
   "metadata": {},
   "outputs": [
    {
     "data": {
      "text/plain": [
       "120"
      ]
     },
     "execution_count": 4,
     "metadata": {},
     "output_type": "execute_result"
    }
   ],
   "source": [
    "factorial = 1\n",
    "\n",
    "for number in range(5, 0, -1):\n",
    "    factorial *=number\n",
    "    \n",
    "    \n",
    "factorial"
   ]
  },
  {
   "cell_type": "code",
   "execution_count": 5,
   "id": "1102a0ac",
   "metadata": {},
   "outputs": [
    {
     "name": "stdout",
     "output_type": "stream",
     "text": [
      "0! = 1\n",
      "1! = 1\n",
      "2! = 2\n",
      "3! = 6\n",
      "4! = 24\n",
      "5! = 120\n",
      "6! = 720\n",
      "7! = 5040\n",
      "8! = 40320\n",
      "9! = 362880\n",
      "10! = 3628800\n"
     ]
    }
   ],
   "source": [
    "def factorial(number):\n",
    "    \"\"\"Return factorial of number\"\"\"\n",
    "    if number <=1:\n",
    "        return 1\n",
    "    return number * factorial(number -1)\n",
    "\n",
    "\n",
    "for i in range(11):\n",
    "    print(f'{i}! = {factorial(i)}')"
   ]
  },
  {
   "cell_type": "code",
   "execution_count": 7,
   "id": "5b079d15",
   "metadata": {},
   "outputs": [
    {
     "data": {
      "text/plain": [
       "2.25"
      ]
     },
     "execution_count": 7,
     "metadata": {},
     "output_type": "execute_result"
    }
   ],
   "source": [
    "import statistics as stats \n",
    "\n",
    "stats.pvariance([1, 3, 4, 2, 6, 5, 3, 4, 5, 2])"
   ]
  },
  {
   "cell_type": "code",
   "execution_count": 8,
   "id": "ea201514",
   "metadata": {},
   "outputs": [
    {
     "data": {
      "text/plain": [
       "1.5"
      ]
     },
     "execution_count": 8,
     "metadata": {},
     "output_type": "execute_result"
    }
   ],
   "source": [
    "stats.pstdev([1, 3, 4, 2, 6, 5, 3, 4, 5, 2])"
   ]
  },
  {
   "cell_type": "code",
   "execution_count": null,
   "id": "d411b4bb",
   "metadata": {},
   "outputs": [],
   "source": []
  }
 ],
 "metadata": {
  "kernelspec": {
   "display_name": "Python 3",
   "language": "python",
   "name": "python3"
  },
  "language_info": {
   "codemirror_mode": {
    "name": "ipython",
    "version": 3
   },
   "file_extension": ".py",
   "mimetype": "text/x-python",
   "name": "python",
   "nbconvert_exporter": "python",
   "pygments_lexer": "ipython3",
   "version": "3.11.9"
  }
 },
 "nbformat": 4,
 "nbformat_minor": 5
}
