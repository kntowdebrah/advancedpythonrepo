{
 "cells": [
  {
   "cell_type": "code",
   "execution_count": null,
   "id": "1f29928c",
   "metadata": {},
   "outputs": [],
   "source": [
    "#account.py \n",
    "\"\"\"Account class definition\"\"\"\n",
    "from decimal import Decimal \n",
    "\n",
    "class Account:\n",
    "    \"\"\"Account class for maintaining a bank account balance.\"\"\"\n",
    "    \n",
    "    def __init__(self, name, balance):\n",
    "        \"\"\"Initialize an Account object.\"\"\"\n",
    "        \n",
    "        #if balance is less than 0.00, raise an exception \n",
    "        if balance < Decimal('0.00'):\n",
    "            raise ValueError('Initial balance must be >= to 0.00')\n",
    "        \n",
    "        self.name = name \n",
    "        self.balance = balance \n",
    "        \n",
    "        \n",
    "    def deposit(self, amount):\n",
    "        \"\"\"Deposit money to the account\"\"\"\n",
    "        \n",
    "        # if amount is less than 0.00, raise an exception \n",
    "        if amount < Decimal('0.00'):\n",
    "            raise ValueError('amount must be positive')\n",
    "        \n",
    "        self.balance += amount \n",
    "        \n"
   ]
  },
  {
   "cell_type": "code",
   "execution_count": 5,
   "id": "e5c44392",
   "metadata": {},
   "outputs": [
    {
     "data": {
      "text/plain": [
       "Decimal('50.00')"
      ]
     },
     "execution_count": 5,
     "metadata": {},
     "output_type": "execute_result"
    }
   ],
   "source": [
    "from decimal import Decimal \n",
    "\n",
    "account1 = Account('John Green', Decimal('50.00'))\n",
    "\n",
    "account1.balance"
   ]
  },
  {
   "cell_type": "code",
   "execution_count": 7,
   "id": "8094474c",
   "metadata": {},
   "outputs": [
    {
     "data": {
      "text/plain": [
       "Decimal('-1000.00')"
      ]
     },
     "execution_count": 7,
     "metadata": {},
     "output_type": "execute_result"
    }
   ],
   "source": [
    "account1.balance = Decimal('-1000.00')\n",
    "\n",
    "account1.balance"
   ]
  },
  {
   "cell_type": "code",
   "execution_count": 2,
   "id": "b7f133b8",
   "metadata": {},
   "outputs": [
    {
     "data": {
      "text/plain": [
       "Time(hour=6, minute=30, second=0)"
      ]
     },
     "execution_count": 2,
     "metadata": {},
     "output_type": "execute_result"
    }
   ],
   "source": [
    "from timewithproperties import Time \n",
    "\n",
    "\n",
    "wake_up = Time(hour=6, minute=30)\n",
    "\n",
    "wake_up"
   ]
  },
  {
   "cell_type": "code",
   "execution_count": 3,
   "id": "8f2cd4ab",
   "metadata": {},
   "outputs": [
    {
     "name": "stdout",
     "output_type": "stream",
     "text": [
      "6:30:00 AM\n"
     ]
    }
   ],
   "source": [
    "print(wake_up)"
   ]
  },
  {
   "cell_type": "code",
   "execution_count": 4,
   "id": "7547311f",
   "metadata": {},
   "outputs": [
    {
     "data": {
      "text/plain": [
       "6"
      ]
     },
     "execution_count": 4,
     "metadata": {},
     "output_type": "execute_result"
    }
   ],
   "source": [
    "wake_up.hour"
   ]
  },
  {
   "cell_type": "code",
   "execution_count": 5,
   "id": "25fdbe25",
   "metadata": {},
   "outputs": [
    {
     "data": {
      "text/plain": [
       "Time(hour=7, minute=45, second=0)"
      ]
     },
     "execution_count": 5,
     "metadata": {},
     "output_type": "execute_result"
    }
   ],
   "source": [
    "wake_up.set_time(hour=7, minute=45)\n",
    "\n",
    "wake_up"
   ]
  },
  {
   "cell_type": "code",
   "execution_count": 6,
   "id": "40f7c246",
   "metadata": {},
   "outputs": [
    {
     "data": {
      "text/plain": [
       "Time(hour=6, minute=45, second=0)"
      ]
     },
     "execution_count": 6,
     "metadata": {},
     "output_type": "execute_result"
    }
   ],
   "source": [
    "#setting a value using the property\n",
    "wake_up.hour = 6\n",
    "\n",
    "wake_up"
   ]
  },
  {
   "cell_type": "code",
   "execution_count": null,
   "id": "172468e5",
   "metadata": {},
   "outputs": [],
   "source": [
    "wake_up.hour = 100"
   ]
  },
  {
   "cell_type": "code",
   "execution_count": 11,
   "id": "18ce5ed0",
   "metadata": {},
   "outputs": [],
   "source": [
    "# timewithproperties\n",
    "\"\"\"Class Time with read-write properties\"\"\"\n",
    "\n",
    "class Time:\n",
    "    \"\"\"Class Time with read-write properties.\"\"\"\n",
    "    \n",
    "    def __init__(self, hour=0, minute=0, second=0):\n",
    "        \"\"\"Initialize each attribute.\"\"\"\n",
    "        self.hour = hour # 0-23\n",
    "        self.minute = minute # 0-59\n",
    "        self.second = second # 0-59\n",
    "        \n",
    "    @property \n",
    "    def hour(self):\n",
    "        \"\"\"return the hour\"\"\"\n",
    "        return self._hour \n",
    "    \n",
    "    @hour.setter \n",
    "    def hour(self, hour):\n",
    "        \"\"\"Set the hour\"\"\"\n",
    "        if not (0 <= hour < 24):\n",
    "            raise ValueError(f'Hour ({hour}) must be 0-23')\n",
    "        \n",
    "        self._hour = hour \n",
    "        \n",
    "    @property \n",
    "    def minute(self):\n",
    "        \"\"\"Return the minute\"\"\"\n",
    "        return self._minute \n",
    "    \n",
    "    @minute.setter \n",
    "    def minute(self, minute):\n",
    "        \"\"\"Set the minute\"\"\"\n",
    "        if not (0 <= minute < 60):\n",
    "            raise ValueError(f'Minute ({minute}) must be 0-59')\n",
    "        \n",
    "        self._minute = minute \n",
    "        \n",
    "        \n",
    "    @property \n",
    "    def second(self):\n",
    "       \"\"\"Return the second.\"\"\"\n",
    "       return self._second \n",
    "   \n",
    "    @second.setter \n",
    "    def second(self, second):\n",
    "        \"\"\"Set the second\"\"\"\n",
    "        if not (0 <= second < 60):\n",
    "            raise ValueError(f'Second ({second}) must be 0-59')\n",
    "            \n",
    "            self._second = second \n",
    "            \n",
    "            \n",
    "    def set_time(self, hour=0, minute=0, second=0):\n",
    "        \"\"\"Set values of hour, minute, and second.\"\"\"\n",
    "        self.hour = hour \n",
    "        self.minute = minute \n",
    "        self.second = second\n",
    "    \n",
    "    \n",
    "    def __repr__(self):\n",
    "        \"\"\"Return Time string for repr()\"\"\"\n",
    "        return (f'Time(hour={self.hour}, minute = {self.minute}, second={self.second})')\n",
    "    \n",
    "    \n",
    "    def __str__(self):\n",
    "        \"\"\"Print time in 12-hour clock format.\"\"\"\n",
    "        return (('12' if self.hour in (0,12) else str(self.hour % 12)) +\n",
    "                f':{self.minute:0>2}:{self.second:0>2}' +\n",
    "                (' AM' if self.hour < 12 else ' PM'))\n",
    "    "
   ]
  },
  {
   "cell_type": "code",
   "execution_count": 12,
   "id": "4a671050",
   "metadata": {},
   "outputs": [],
   "source": [
    "from deck import DeckOfCards\n",
    "\n",
    "deck_of_cards = DeckOfCards()"
   ]
  },
  {
   "cell_type": "code",
   "execution_count": 13,
   "id": "7e866b19",
   "metadata": {},
   "outputs": [
    {
     "name": "stdout",
     "output_type": "stream",
     "text": [
      "Ace of Hearts      2 of Hearts        3 of Hearts        4 of Hearts        \n",
      "5 of Hearts        6 of Hearts        7 of Hearts        8 of Hearts        \n",
      "9 of Hearts        10 of Hearts       Jack of Hearts     Queen of Hearts    \n",
      "King of Hearts     Ace of Diamonds    2 of Diamonds      3 of Diamonds      \n",
      "4 of Diamonds      5 of Diamonds      6 of Diamonds      7 of Diamonds      \n",
      "8 of Diamonds      9 of Diamonds      10 of Diamonds     Jack of Diamonds   \n",
      "Queen of Diamonds  King of Diamonds   Ace of Clubs       2 of Clubs         \n",
      "3 of Clubs         4 of Clubs         5 of Clubs         6 of Clubs         \n",
      "7 of Clubs         8 of Clubs         9 of Clubs         10 of Clubs        \n",
      "Jack of Clubs      Queen of Clubs     King of Clubs      Ace of Spades      \n",
      "2 of Spades        3 of Spades        4 of Spades        5 of Spades        \n",
      "6 of Spades        7 of Spades        8 of Spades        9 of Spades        \n",
      "10 of Spades       Jack of Spades     Queen of Spades    King of Spades     \n",
      "\n"
     ]
    }
   ],
   "source": [
    "print(deck_of_cards)"
   ]
  },
  {
   "cell_type": "code",
   "execution_count": 14,
   "id": "33d3ee18",
   "metadata": {},
   "outputs": [],
   "source": [
    "deck_of_cards.shuffle()"
   ]
  },
  {
   "cell_type": "code",
   "execution_count": 15,
   "id": "b6119410",
   "metadata": {},
   "outputs": [
    {
     "name": "stdout",
     "output_type": "stream",
     "text": [
      "8 of Hearts        King of Clubs      Jack of Hearts     5 of Diamonds      \n",
      "4 of Spades        Queen of Clubs     6 of Diamonds      6 of Spades        \n",
      "King of Spades     Ace of Clubs       4 of Clubs         5 of Clubs         \n",
      "Queen of Hearts    4 of Hearts        Ace of Diamonds    10 of Spades       \n",
      "8 of Diamonds      King of Diamonds   10 of Clubs        7 of Spades        \n",
      "5 of Spades        3 of Diamonds      9 of Spades        King of Hearts     \n",
      "10 of Hearts       8 of Spades        7 of Diamonds      2 of Diamonds      \n",
      "9 of Clubs         Ace of Hearts      9 of Diamonds      7 of Hearts        \n",
      "Jack of Clubs      6 of Clubs         4 of Diamonds      6 of Hearts        \n",
      "Queen of Spades    3 of Spades        8 of Clubs         3 of Hearts        \n",
      "Jack of Spades     2 of Clubs         Queen of Diamonds  Jack of Diamonds   \n",
      "2 of Spades        9 of Hearts        10 of Diamonds     Ace of Spades      \n",
      "5 of Hearts        2 of Hearts        3 of Clubs         7 of Clubs         \n",
      "\n"
     ]
    }
   ],
   "source": [
    "print(deck_of_cards)"
   ]
  },
  {
   "cell_type": "code",
   "execution_count": 16,
   "id": "9feb6b5d",
   "metadata": {},
   "outputs": [
    {
     "data": {
      "text/plain": [
       "Card(face='8', suit='Hearts')"
      ]
     },
     "execution_count": 16,
     "metadata": {},
     "output_type": "execute_result"
    }
   ],
   "source": [
    "deck_of_cards.deal_card()"
   ]
  },
  {
   "cell_type": "code",
   "execution_count": 17,
   "id": "1dd21954",
   "metadata": {},
   "outputs": [
    {
     "data": {
      "text/plain": [
       "'King of Clubs'"
      ]
     },
     "execution_count": 17,
     "metadata": {},
     "output_type": "execute_result"
    }
   ],
   "source": [
    "card = deck_of_cards.deal_card()\n",
    "\n",
    "str(card)"
   ]
  },
  {
   "cell_type": "code",
   "execution_count": 18,
   "id": "47ae6aa2",
   "metadata": {},
   "outputs": [
    {
     "data": {
      "text/plain": [
       "'King_of_Clubs.png'"
      ]
     },
     "execution_count": 18,
     "metadata": {},
     "output_type": "execute_result"
    }
   ],
   "source": [
    "card.image_name"
   ]
  }
 ],
 "metadata": {
  "kernelspec": {
   "display_name": "advancedpython (3.13.5)",
   "language": "python",
   "name": "python3"
  },
  "language_info": {
   "codemirror_mode": {
    "name": "ipython",
    "version": 3
   },
   "file_extension": ".py",
   "mimetype": "text/x-python",
   "name": "python",
   "nbconvert_exporter": "python",
   "pygments_lexer": "ipython3",
   "version": "3.13.7"
  }
 },
 "nbformat": 4,
 "nbformat_minor": 5
}
