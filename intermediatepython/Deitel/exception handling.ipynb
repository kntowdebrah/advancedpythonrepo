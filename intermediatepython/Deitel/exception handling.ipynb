{
 "cells": [
  {
   "cell_type": "code",
   "execution_count": 1,
   "id": "dcf26b18",
   "metadata": {},
   "outputs": [
    {
     "name": "stdout",
     "output_type": "stream",
     "text": [
      "Attempted to divide by zero\n",
      "\n",
      "You must enter two integers\n",
      "\n",
      "100.000 / 7.000 = 14.286\n"
     ]
    }
   ],
   "source": [
    "\"\"\"Simple exception handling example.\"\"\"\n",
    "\n",
    "\n",
    "while True:\n",
    "    #attempt to convert and divide values \n",
    "    try:\n",
    "        number1 = int(input('Enter numerator: '))\n",
    "        number2 = int(input('Enter denominator: '))\n",
    "        result = number1 / number2 \n",
    "    except ValueError: #tried to convert non-numeric value to int\n",
    "        print('You must enter two integers\\n')\n",
    "    except ZeroDivisionError: #denominator was 0\n",
    "        print('Attempted to divide by zero\\n')\n",
    "    else: #execute only if no exceptions occur \n",
    "        print(f'{number1:.3f} / {number2:.3f} = {result:.3f}')\n",
    "        break #terminate the loop"
   ]
  },
  {
   "cell_type": "code",
   "execution_count": 2,
   "id": "761b9416",
   "metadata": {},
   "outputs": [
    {
     "name": "stdout",
     "output_type": "stream",
     "text": [
      "The file name you specified does not exist\n"
     ]
    }
   ],
   "source": [
    "try:\n",
    "    with open('gradez.txt', 'r') as accounts:\n",
    "        print(f'{\"ID\":<3}{\"Name\":<7}{\"Grade\"}')\n",
    "        for record in accounts:\n",
    "            student_id, name, grade = record.split()\n",
    "            print(f'{student_id:<3}{name:<7}{grade}')\n",
    "except FileNotFoundError:\n",
    "    print('The file name you specified does not exist')"
   ]
  }
 ],
 "metadata": {
  "kernelspec": {
   "display_name": "Python 3",
   "language": "python",
   "name": "python3"
  },
  "language_info": {
   "codemirror_mode": {
    "name": "ipython",
    "version": 3
   },
   "file_extension": ".py",
   "mimetype": "text/x-python",
   "name": "python",
   "nbconvert_exporter": "python",
   "pygments_lexer": "ipython3",
   "version": "3.11.9"
  }
 },
 "nbformat": 4,
 "nbformat_minor": 5
}
