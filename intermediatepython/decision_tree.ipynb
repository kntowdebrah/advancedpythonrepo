{
 "cells": [
  {
   "cell_type": "code",
   "execution_count": null,
   "id": "e21d2d93",
   "metadata": {},
   "outputs": [],
   "source": [
    "import pandas \n",
    "\n"
   ]
  }
 ],
 "metadata": {
  "kernelspec": {
   "display_name": "advancedpython (3.13.5)",
   "language": "python",
   "name": "python3"
  },
  "language_info": {
   "name": "python",
   "version": "3.13.5"
  }
 },
 "nbformat": 4,
 "nbformat_minor": 5
}
