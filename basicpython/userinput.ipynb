{
 "cells": [
  {
   "cell_type": "code",
   "execution_count": 1,
   "id": "c0ec8615",
   "metadata": {},
   "outputs": [
    {
     "name": "stdout",
     "output_type": "stream",
     "text": [
      "Enter your name:\n",
      "Hello Kwabena\n"
     ]
    }
   ],
   "source": [
    "print(\"Enter your name:\")\n",
    "name = input() \n",
    "print(f\"Hello {name}\")"
   ]
  },
  {
   "cell_type": "code",
   "execution_count": 2,
   "id": "52333423",
   "metadata": {},
   "outputs": [
    {
     "name": "stdout",
     "output_type": "stream",
     "text": [
      "Hello Kwadwo\n"
     ]
    }
   ],
   "source": [
    "#using prompt\n",
    "name = input(\"Enter your name\")\n",
    "print(f'Hello {name}')"
   ]
  },
  {
   "cell_type": "code",
   "execution_count": 3,
   "id": "846298cf",
   "metadata": {},
   "outputs": [
    {
     "name": "stdout",
     "output_type": "stream",
     "text": [
      "Hello Kwadwo\n",
      "Do you want a red Chiuaua with 9 legs\n"
     ]
    }
   ],
   "source": [
    "name = input(\"Enter your name:\")\n",
    "print(f'Hello {name}')\n",
    "fav1 = input(\"What is your favorite animal: \")\n",
    "fav2 = input(\"What is your favorite color: \")\n",
    "fav3 = input(\"What is your favorite number: \")\n",
    "print(f'Do you want a {fav2} {fav1} with {fav3} legs')\n"
   ]
  },
  {
   "cell_type": "code",
   "execution_count": 5,
   "id": "af80d04e",
   "metadata": {},
   "outputs": [
    {
     "name": "stdout",
     "output_type": "stream",
     "text": [
      "The square root of 45 is 6.708203932499369\n"
     ]
    }
   ],
   "source": [
    "#inputing a number\n",
    "import math\n",
    "\n",
    "x = input(\"Enter a number:\")\n",
    "\n",
    "y = math.sqrt(float(x))\n",
    "\n",
    "print(f'The square root of {x} is {y}')"
   ]
  },
  {
   "cell_type": "code",
   "execution_count": 7,
   "id": "69c86550",
   "metadata": {},
   "outputs": [
    {
     "name": "stdout",
     "output_type": "stream",
     "text": [
      "Wrong input, please try again\n",
      "Wrong input, please try again\n",
      "Thank you\n"
     ]
    }
   ],
   "source": [
    "y = True \n",
    "while y == True:\n",
    "    x = input(\"Enter a number:\")\n",
    "    try:\n",
    "        x = float(x)\n",
    "        y = False \n",
    "    except:\n",
    "        print(\"Wrong input, please try again\")\n",
    "        \n",
    "print('Thank you')"
   ]
  }
 ],
 "metadata": {
  "kernelspec": {
   "display_name": "advancedpython (3.13.5)",
   "language": "python",
   "name": "python3"
  },
  "language_info": {
   "codemirror_mode": {
    "name": "ipython",
    "version": 3
   },
   "file_extension": ".py",
   "mimetype": "text/x-python",
   "name": "python",
   "nbconvert_exporter": "python",
   "pygments_lexer": "ipython3",
   "version": "3.13.5"
  }
 },
 "nbformat": 4,
 "nbformat_minor": 5
}
