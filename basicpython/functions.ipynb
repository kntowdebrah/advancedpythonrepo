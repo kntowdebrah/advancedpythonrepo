{
 "cells": [
  {
   "cell_type": "code",
   "execution_count": 2,
   "id": "15f5a4b7",
   "metadata": {},
   "outputs": [
    {
     "name": "stdout",
     "output_type": "stream",
     "text": [
      "Hello from a function\n"
     ]
    }
   ],
   "source": [
    "#functions\n",
    "def my_functions():\n",
    "    print(\"Hello from a function\")\n",
    "    \n",
    "my_functions()"
   ]
  },
  {
   "cell_type": "code",
   "execution_count": null,
   "id": "098f5806",
   "metadata": {},
   "outputs": [],
   "source": [
    "#arguments in a function\n",
    "def my_function(fname):\n",
    "    print(fname + \" Refsnes\")\n",
    "    \n",
    "my_function"
   ]
  },
  {
   "cell_type": "code",
   "execution_count": 2,
   "id": "6cd2e7c1",
   "metadata": {},
   "outputs": [
    {
     "name": "stdout",
     "output_type": "stream",
     "text": [
      "Emil Refsnes\n"
     ]
    }
   ],
   "source": [
    "def my_function(fname, lname):\n",
    "    print(fname + \" \" + lname)\n",
    "    \n",
    "my_function(\"Emil\", \"Refsnes\")"
   ]
  },
  {
   "cell_type": "code",
   "execution_count": 4,
   "id": "91376e99",
   "metadata": {},
   "outputs": [
    {
     "name": "stdout",
     "output_type": "stream",
     "text": [
      "The Youngest child is Linus\n"
     ]
    }
   ],
   "source": [
    "#using *args will send a tuple of arguments\n",
    "def my_function(*kids):\n",
    "    print(\"The Youngest child is \" + kids[2])\n",
    "    \n",
    "my_function('Emil', \"Tobias\", \"Linus\")"
   ]
  },
  {
   "cell_type": "code",
   "execution_count": 5,
   "id": "297c5e0d",
   "metadata": {},
   "outputs": [
    {
     "name": "stdout",
     "output_type": "stream",
     "text": [
      "The Youngest child is Linus\n"
     ]
    }
   ],
   "source": [
    "#keyword arguments\n",
    "def my_function(child3, child2, child1):\n",
    "    print(\"The Youngest child is \" + child3)\n",
    "    \n",
    "my_function(child1=\"Emil\", child2=\"Tobias\", child3=\"Linus\")"
   ]
  },
  {
   "cell_type": "code",
   "execution_count": null,
   "id": "12943371",
   "metadata": {},
   "outputs": [
    {
     "name": "stdout",
     "output_type": "stream",
     "text": [
      "His last name is Refsnes\n"
     ]
    }
   ],
   "source": [
    "#unknown number of keyword arguments\n",
    "def my_function(**kid):\n",
    "    print(\"His last name is \" + kid['lname'])\n",
    "    \n",
    "my_function(fname=\"Tobias\", lname=\"Refsnes\")"
   ]
  },
  {
   "cell_type": "code",
   "execution_count": 7,
   "id": "c1d455a0",
   "metadata": {},
   "outputs": [
    {
     "name": "stdout",
     "output_type": "stream",
     "text": [
      "I am from Sweden\n",
      "I am from India\n",
      "I am from Norway\n",
      "I am from Brazil\n"
     ]
    }
   ],
   "source": [
    "#assigning a default value to a variable\n",
    "def my_function(country =\"Norway\"):\n",
    "    print(\"I am from \" + country)\n",
    "    \n",
    "my_function('Sweden')\n",
    "my_function(\"India\")\n",
    "my_function()\n",
    "my_function(\"Brazil\")\n"
   ]
  },
  {
   "cell_type": "code",
   "execution_count": 8,
   "id": "21ce2f62",
   "metadata": {},
   "outputs": [
    {
     "name": "stdout",
     "output_type": "stream",
     "text": [
      "apple\n",
      "banana\n",
      "cherry\n"
     ]
    }
   ],
   "source": [
    "#passing a list an an argument \n",
    "def my_function(food):\n",
    "    for x in food:\n",
    "        print(x)\n",
    "        \n",
    "fruits = ['apple', 'banana', 'cherry']\n",
    "\n",
    "my_function(fruits)"
   ]
  },
  {
   "cell_type": "code",
   "execution_count": null,
   "id": "671c8798",
   "metadata": {},
   "outputs": [
    {
     "name": "stdout",
     "output_type": "stream",
     "text": [
      "15\n",
      "25\n",
      "45\n"
     ]
    }
   ],
   "source": [
    "#returning a value\n",
    "def my_function(x):\n",
    "    return 5 * x\n",
    "\n",
    "\n",
    "print(my_function(3))\n",
    "print(my_function(5))\n",
    "print(my_function(9))"
   ]
  },
  {
   "cell_type": "code",
   "execution_count": 10,
   "id": "fed104c4",
   "metadata": {},
   "outputs": [],
   "source": [
    "#no function definition \n",
    "def my_function():\n",
    "    pass"
   ]
  },
  {
   "cell_type": "code",
   "execution_count": null,
   "id": "c30bd3dd",
   "metadata": {},
   "outputs": [
    {
     "name": "stdout",
     "output_type": "stream",
     "text": [
      "3\n"
     ]
    }
   ],
   "source": [
    "#allow only positional arguments\n",
    "def my_function(x, /):\n",
    "    print(x)\n",
    "    \n",
    "my_function(3)"
   ]
  },
  {
   "cell_type": "code",
   "execution_count": null,
   "id": "23fe9a79",
   "metadata": {},
   "outputs": [
    {
     "name": "stdout",
     "output_type": "stream",
     "text": [
      "3\n"
     ]
    }
   ],
   "source": [
    "#allow keyword arguments\n",
    "def my_function(*, x):\n",
    "    print(x)\n",
    "    \n",
    "my_function(x = 3)"
   ]
  },
  {
   "cell_type": "code",
   "execution_count": 14,
   "id": "c1c5c8e4",
   "metadata": {},
   "outputs": [
    {
     "name": "stdout",
     "output_type": "stream",
     "text": [
      "26\n"
     ]
    }
   ],
   "source": [
    "#confusing combining positional-only and keyword-only\n",
    "def my_function(a, b, /, *, c, d):\n",
    "    print(a + b + c + d)\n",
    "    \n",
    "my_function(5, 6, c = 7, d = 8)"
   ]
  },
  {
   "cell_type": "code",
   "execution_count": 15,
   "id": "c4e56087",
   "metadata": {},
   "outputs": [
    {
     "name": "stdout",
     "output_type": "stream",
     "text": [
      "Recursion Example Results:\n",
      "1\n",
      "3\n",
      "6\n",
      "10\n",
      "15\n",
      "21\n"
     ]
    },
    {
     "data": {
      "text/plain": [
       "21"
      ]
     },
     "execution_count": 15,
     "metadata": {},
     "output_type": "execute_result"
    }
   ],
   "source": [
    "def tri_recursion(k):\n",
    "    if(k > 0):\n",
    "        result = k + tri_recursion(k-1)\n",
    "        print(result)\n",
    "    else:\n",
    "        result = 0 \n",
    "    return result \n",
    "\n",
    "print(\"Recursion Example Results:\")\n",
    "\n",
    "tri_recursion(6)"
   ]
  }
 ],
 "metadata": {
  "kernelspec": {
   "display_name": "advancedpython (3.13.5)",
   "language": "python",
   "name": "python3"
  },
  "language_info": {
   "codemirror_mode": {
    "name": "ipython",
    "version": 3
   },
   "file_extension": ".py",
   "mimetype": "text/x-python",
   "name": "python",
   "nbconvert_exporter": "python",
   "pygments_lexer": "ipython3",
   "version": "3.13.7"
  }
 },
 "nbformat": 4,
 "nbformat_minor": 5
}
