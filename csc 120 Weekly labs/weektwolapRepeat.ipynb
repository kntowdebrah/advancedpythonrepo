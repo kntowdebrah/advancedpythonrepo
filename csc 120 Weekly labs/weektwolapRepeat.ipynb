{
 "cells": [
  {
   "cell_type": "code",
   "execution_count": 1,
   "id": "4e113dc5",
   "metadata": {},
   "outputs": [
    {
     "name": "stdout",
     "output_type": "stream",
     "text": [
      "200\n"
     ]
    }
   ],
   "source": [
    "print(200)"
   ]
  },
  {
   "cell_type": "code",
   "execution_count": 3,
   "id": "f1be91d3",
   "metadata": {},
   "outputs": [
    {
     "name": "stdout",
     "output_type": "stream",
     "text": [
      "Kwabena N. Debrah\n"
     ]
    }
   ],
   "source": [
    "name = 'Kwabena N. Debrah'\n",
    "\n",
    "print(name)"
   ]
  },
  {
   "cell_type": "code",
   "execution_count": 4,
   "id": "6c260db2",
   "metadata": {},
   "outputs": [
    {
     "data": {
      "text/plain": [
       "int"
      ]
     },
     "execution_count": 4,
     "metadata": {},
     "output_type": "execute_result"
    }
   ],
   "source": [
    "type(200)"
   ]
  },
  {
   "cell_type": "code",
   "execution_count": 5,
   "id": "9d8e11ba",
   "metadata": {},
   "outputs": [
    {
     "data": {
      "text/plain": [
       "str"
      ]
     },
     "execution_count": 5,
     "metadata": {},
     "output_type": "execute_result"
    }
   ],
   "source": [
    "type('Programming is fun')"
   ]
  },
  {
   "cell_type": "code",
   "execution_count": 7,
   "id": "d0131c12",
   "metadata": {},
   "outputs": [
    {
     "name": "stdout",
     "output_type": "stream",
     "text": [
      "I attend  Assumption University  our nickname is  The Greyhounds\n"
     ]
    }
   ],
   "source": [
    "collegeName = 'Assumption University'\n",
    "\n",
    "#nameOfCollege = 'Assumption University'\n",
    "\n",
    "#name_of_college = 'Assumption University'\n",
    "\n",
    "collegeNickname ='The Greyhounds'\n",
    "\n",
    "print('I attend ', collegeName, \" our nickname is \", collegeNickname)"
   ]
  },
  {
   "cell_type": "code",
   "execution_count": 8,
   "id": "e2f6c819",
   "metadata": {},
   "outputs": [
    {
     "name": "stdout",
     "output_type": "stream",
     "text": [
      "3.141592653589793\n"
     ]
    }
   ],
   "source": [
    "import math\n",
    "\n",
    "print(math.pi)"
   ]
  },
  {
   "cell_type": "code",
   "execution_count": null,
   "id": "d7654dce",
   "metadata": {},
   "outputs": [
    {
     "name": "stdout",
     "output_type": "stream",
     "text": [
      "words\n"
     ]
    }
   ],
   "source": [
    "str1 = 'words'\n",
    "\n",
    "print(str1)"
   ]
  },
  {
   "cell_type": "code",
   "execution_count": 10,
   "id": "be5e1cd3",
   "metadata": {},
   "outputs": [
    {
     "data": {
      "text/plain": [
       "str"
      ]
     },
     "execution_count": 10,
     "metadata": {},
     "output_type": "execute_result"
    }
   ],
   "source": [
    "type(str1)"
   ]
  },
  {
   "cell_type": "code",
   "execution_count": 11,
   "id": "93d3a480",
   "metadata": {},
   "outputs": [
    {
     "name": "stdout",
     "output_type": "stream",
     "text": [
      "65\n"
     ]
    }
   ],
   "source": [
    "num = 65\n",
    "\n",
    "print(num)"
   ]
  },
  {
   "cell_type": "code",
   "execution_count": 12,
   "id": "84476beb",
   "metadata": {},
   "outputs": [
    {
     "data": {
      "text/plain": [
       "int"
      ]
     },
     "execution_count": 12,
     "metadata": {},
     "output_type": "execute_result"
    }
   ],
   "source": [
    "type(num)"
   ]
  },
  {
   "cell_type": "code",
   "execution_count": 13,
   "id": "b0971e11",
   "metadata": {},
   "outputs": [
    {
     "data": {
      "text/plain": [
       "float"
      ]
     },
     "execution_count": 13,
     "metadata": {},
     "output_type": "execute_result"
    }
   ],
   "source": [
    "type(8/2)"
   ]
  },
  {
   "cell_type": "code",
   "execution_count": 14,
   "id": "77ab042c",
   "metadata": {},
   "outputs": [
    {
     "data": {
      "text/plain": [
       "int"
      ]
     },
     "execution_count": 14,
     "metadata": {},
     "output_type": "execute_result"
    }
   ],
   "source": [
    "type(8//2)"
   ]
  },
  {
   "cell_type": "code",
   "execution_count": 15,
   "id": "dd10257f",
   "metadata": {},
   "outputs": [
    {
     "data": {
      "text/plain": [
       "int"
      ]
     },
     "execution_count": 15,
     "metadata": {},
     "output_type": "execute_result"
    }
   ],
   "source": [
    "type(4**6)"
   ]
  },
  {
   "cell_type": "code",
   "execution_count": 16,
   "id": "73fdbed8",
   "metadata": {},
   "outputs": [
    {
     "name": "stdout",
     "output_type": "stream",
     "text": [
      "106\n"
     ]
    }
   ],
   "source": [
    "print(20 + 30 + 56)"
   ]
  },
  {
   "cell_type": "code",
   "execution_count": 17,
   "id": "aac4d978",
   "metadata": {},
   "outputs": [
    {
     "name": "stdout",
     "output_type": "stream",
     "text": [
      "106\n"
     ]
    }
   ],
   "source": [
    "sum = 20 + 30 + 56\n",
    "\n",
    "print(sum)"
   ]
  },
  {
   "cell_type": "code",
   "execution_count": 18,
   "id": "1445e7ed",
   "metadata": {},
   "outputs": [
    {
     "name": "stdout",
     "output_type": "stream",
     "text": [
      "-10\n"
     ]
    }
   ],
   "source": [
    "diff = 50 - 60 \n",
    "\n",
    "print(diff)"
   ]
  },
  {
   "cell_type": "code",
   "execution_count": 19,
   "id": "a4252180",
   "metadata": {},
   "outputs": [
    {
     "name": "stdout",
     "output_type": "stream",
     "text": [
      "25\n"
     ]
    }
   ],
   "source": [
    "mult = 5 * 5\n",
    "print(mult)"
   ]
  },
  {
   "cell_type": "code",
   "execution_count": 20,
   "id": "d5adf92d",
   "metadata": {},
   "outputs": [
    {
     "name": "stdout",
     "output_type": "stream",
     "text": [
      "5.0\n"
     ]
    }
   ],
   "source": [
    "div = 25/5\n",
    "\n",
    "print(div)"
   ]
  },
  {
   "cell_type": "code",
   "execution_count": 21,
   "id": "4d9ede0d",
   "metadata": {},
   "outputs": [
    {
     "name": "stdout",
     "output_type": "stream",
     "text": [
      "150\n"
     ]
    }
   ],
   "source": [
    "expression = 30 + 2 * 60\n",
    "\n",
    "print(expression)"
   ]
  },
  {
   "cell_type": "code",
   "execution_count": 22,
   "id": "06388b18",
   "metadata": {},
   "outputs": [
    {
     "name": "stdout",
     "output_type": "stream",
     "text": [
      "1920\n"
     ]
    }
   ],
   "source": [
    "mixture = (30 + 2) * 60\n",
    "\n",
    "print(mixture)"
   ]
  },
  {
   "cell_type": "code",
   "execution_count": 23,
   "id": "b55cb246",
   "metadata": {},
   "outputs": [
    {
     "name": "stdout",
     "output_type": "stream",
     "text": [
      "17\n"
     ]
    }
   ],
   "source": [
    "x = 5 + 6 * 2\n",
    "print(x)"
   ]
  },
  {
   "cell_type": "code",
   "execution_count": 24,
   "id": "e69b9301",
   "metadata": {},
   "outputs": [
    {
     "name": "stdout",
     "output_type": "stream",
     "text": [
      "42.0\n"
     ]
    }
   ],
   "source": [
    "z = 2 + 5**2 / 5 * 8\n",
    "\n",
    "print(z)"
   ]
  },
  {
   "cell_type": "code",
   "execution_count": 41,
   "id": "87d0686d",
   "metadata": {},
   "outputs": [
    {
     "name": "stdout",
     "output_type": "stream",
     "text": [
      "113.0\n"
     ]
    }
   ],
   "source": [
    "Celsius = input('Enter the temperature in celsius: ')\n",
    "\n",
    "#celsius_number = int(Celsius)\n",
    "\n",
    "Fahrenheit = (9/5 * int(Celsius)) + 32 \n",
    "\n",
    "print(Fahrenheit)"
   ]
  },
  {
   "cell_type": "code",
   "execution_count": 44,
   "id": "1f52e8ca",
   "metadata": {},
   "outputs": [
    {
     "name": "stdout",
     "output_type": "stream",
     "text": [
      "9202.7720799157\n"
     ]
    }
   ],
   "source": [
    "import math\n",
    "\n",
    "radius = input('Enter the radius of the sphere: ') #here we create variable r\n",
    "\n",
    "#radius_number = int(radius)\n",
    "\n",
    "V = 4/3 * math.pi * int(radius)**3 #here we use the variable r\n",
    "\n",
    "print(V)\n"
   ]
  },
  {
   "cell_type": "code",
   "execution_count": 31,
   "id": "fb0956ce",
   "metadata": {},
   "outputs": [
    {
     "name": "stdout",
     "output_type": "stream",
     "text": [
      "John\n"
     ]
    }
   ],
   "source": [
    "name = input('What is your name: ')\n",
    "\n",
    "print(name)"
   ]
  },
  {
   "cell_type": "code",
   "execution_count": 34,
   "id": "9a32326f",
   "metadata": {},
   "outputs": [
    {
     "name": "stdout",
     "output_type": "stream",
     "text": [
      "You are 23 years old\n"
     ]
    }
   ],
   "source": [
    "age = input('How old are you: ')\n",
    "\n",
    "print('You are', age, 'years old')"
   ]
  },
  {
   "cell_type": "code",
   "execution_count": null,
   "id": "9d45cd1f",
   "metadata": {},
   "outputs": [
    {
     "name": "stdout",
     "output_type": "stream",
     "text": [
      "79\n",
      "3445\n"
     ]
    }
   ],
   "source": [
    "value1 = input('Enter the first value: ')\n",
    "value2 = input('Enter the second value: ')\n",
    "\n",
    "#print(type(value1))\n",
    "#print(type(value2))\n",
    "\n",
    "total = int(value1) + int(value2)\n",
    "\n",
    "diff_total = value1 + value2\n",
    "\n",
    "print(total)\n",
    "print(diff_total)\n"
   ]
  },
  {
   "cell_type": "code",
   "execution_count": null,
   "id": "38bf1835",
   "metadata": {},
   "outputs": [
    {
     "name": "stdout",
     "output_type": "stream",
     "text": [
      "hours worked:  35 rate of pay:  2.75 gross salary:  96.25\n"
     ]
    }
   ],
   "source": [
    "hours_worked = input('Enter the number of hours worked: ')\n",
    "rate_of_pay = input('Enter the rate of pay: ')\n",
    "\n",
    "# Method one\n",
    "#hours_number = int(hours_worked)\n",
    "#rate_number = float(rate_of_pay)\n",
    "#gross_pay = hours_number * rate_number\n",
    "\n",
    "#Method two \n",
    "gross_pay = int(hours_worked) * float(rate_of_pay)\n",
    "\n",
    "print('hours worked: ', hours_worked, 'rate of pay: ', rate_of_pay, 'gross salary: ',gross_pay)"
   ]
  },
  {
   "cell_type": "code",
   "execution_count": 48,
   "id": "dcd7dcf2",
   "metadata": {},
   "outputs": [
    {
     "name": "stdout",
     "output_type": "stream",
     "text": [
      "Gross pay is:  110.0\n"
     ]
    }
   ],
   "source": [
    "# collecting data\n",
    "hours_worked = input('Enter the number of hours worked: ')\n",
    "rate_of_pay = input('Enter the rate of pay: ')\n",
    "\n",
    "#computing overtime numbers\n",
    "overtime_rate = 1.5 * float(rate_of_pay)\n",
    "overtime_hours = int(hours_worked) - 40\n",
    "\n",
    "overtime_amount = overtime_hours * overtime_rate\n",
    "\n",
    "#computing regular numbers\n",
    "regular_amount = 40 * float(rate_of_pay)\n",
    "\n",
    "# display results for gross pay\n",
    "gross_pay = overtime_amount + regular_amount \n",
    "\n",
    "print('Gross pay is: ', gross_pay)"
   ]
  }
 ],
 "metadata": {
  "kernelspec": {
   "display_name": "Python 3",
   "language": "python",
   "name": "python3"
  },
  "language_info": {
   "codemirror_mode": {
    "name": "ipython",
    "version": 3
   },
   "file_extension": ".py",
   "mimetype": "text/x-python",
   "name": "python",
   "nbconvert_exporter": "python",
   "pygments_lexer": "ipython3",
   "version": "3.11.9"
  }
 },
 "nbformat": 4,
 "nbformat_minor": 5
}
