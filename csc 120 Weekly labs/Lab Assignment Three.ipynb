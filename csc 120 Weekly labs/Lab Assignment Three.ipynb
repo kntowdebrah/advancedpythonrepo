{
 "cells": [
  {
   "cell_type": "code",
   "execution_count": null,
   "id": "e679fcc6",
   "metadata": {},
   "outputs": [],
   "source": [
    "# Kindly read through the questions very well and do your best to answer them. \n",
    "# Instructions: Answer the question in the cell with the question(your solution). Thanks. \n",
    "# try your best not to use code generation\n",
    "# Name: <-------kindly put your name here ------>\n",
    "# Title: Lab Assignment Three"
   ]
  },
  {
   "cell_type": "code",
   "execution_count": null,
   "id": "019c36e3",
   "metadata": {},
   "outputs": [],
   "source": [
    "#1\n",
    "#Question:\n",
    "\"\"\"\n",
    "Write a program that checks if a person is eligible to vote. \n",
    "    a.\tAsk for their age and citizenship. \n",
    "    b.\tTo be eligible, they must be at least 18 years old and a citizen.\n",
    "\"\"\"\n",
    "\n",
    "\n",
    "##Your Solution goes below##\n",
    "\n"
   ]
  },
  {
   "cell_type": "code",
   "execution_count": null,
   "id": "5994981e",
   "metadata": {},
   "outputs": [],
   "source": [
    "#2\n",
    "#Question: \n",
    "\"\"\"\n",
    "Write a python program that takes a calendar year in yyyy format \n",
    "and checks whether the year is a leap year or not. \n",
    "\"\"\"\n",
    "\n",
    "\n",
    "##Your Solution goes below##\n"
   ]
  },
  {
   "cell_type": "code",
   "execution_count": null,
   "id": "91beba58",
   "metadata": {},
   "outputs": [],
   "source": [
    "#3\n",
    "\"\"\"\n",
    "Write a python program that convertrs temperatures between celsius and Fahrenheit. \n",
    "The user should decide which convertion to do.\n",
    "This means there should be two inputs captured. \n",
    "1. Asking whether to convert from Celsius to Fahrenheit, or from Fahrenheit to celsius\n",
    "2. Asking for the temperature value to be converted into a number(float)\n",
    "\"\"\"\n",
    "\n",
    "##Your Solution goes below##\n",
    "\n"
   ]
  },
  {
   "cell_type": "code",
   "execution_count": null,
   "id": "ddcd46eb",
   "metadata": {},
   "outputs": [],
   "source": [
    "#4\n",
    "\"\"\"\n",
    "4.\tWrite a Python program that accepts a month name as input and displays the \n",
    "number of days for that month. Eg. ‘February’ should print\n",
    "“Number of days in February is 28/29 days”\n",
    "\"\"\"\n",
    "\n",
    "##Your Solution goes below##\n",
    "\n"
   ]
  },
  {
   "cell_type": "code",
   "execution_count": null,
   "id": "f2ad0e59",
   "metadata": {},
   "outputs": [],
   "source": [
    "#5\n",
    "\"\"\"\n",
    "Write a python program that calculates the sum of numbers from 1 to 50 inclusive.\n",
    "\"\"\"\n",
    "\n",
    "##Your Solution goes below##\n",
    "\n"
   ]
  },
  {
   "cell_type": "code",
   "execution_count": null,
   "id": "aa3e5621",
   "metadata": {},
   "outputs": [],
   "source": [
    "#6\n",
    "\"\"\"\n",
    "Write a python program that \n",
    "    a.\tStores correct password in a variable.\n",
    "    b.\tAsks user to enter his/her password. \n",
    "    c.\tValidate the two passwords.\n",
    "        i.\tCheck if the user entered password is correct.\n",
    "        ii.\tChecks if both are the same. \n",
    "        iii.Checks if the user entered password is incorrect. \n",
    "        iv.\tDisplay messages to the user for all cases. \n",
    "\n",
    "\"\"\"\n",
    "\n",
    "##Your Solution goes below##\n",
    "\n"
   ]
  },
  {
   "cell_type": "code",
   "execution_count": null,
   "id": "7660a7a7",
   "metadata": {},
   "outputs": [],
   "source": [
    "#7\n",
    "\"\"\"\n",
    "10.\tWrite a Python script that asks the user to enter a length in centimeters. \n",
    "If the user enters a negative length, the program should tell the user that the entry is invalid. Otherwise, \n",
    "the program should convert the length to inches and print out the result. There are 2.54 centimeters in an inch.\n",
    "\"\"\"\n",
    "\n",
    "##Your Solution goes below##\n",
    "\n"
   ]
  },
  {
   "cell_type": "code",
   "execution_count": null,
   "id": "e2ebb8b7",
   "metadata": {},
   "outputs": [],
   "source": [
    "#8\n",
    "\"\"\"\n",
    "Write a python program that prints out all the numbers from 1 to 30 leaving\n",
    "out any number that is divisible by 5 eg. 5, 10, 15\n",
    "\"\"\"\n",
    "\n",
    "##Your Solution goes below##\n",
    "\n"
   ]
  },
  {
   "cell_type": "code",
   "execution_count": null,
   "id": "083d1cae",
   "metadata": {},
   "outputs": [],
   "source": [
    "# 9\n",
    "# Read the code and try to understand what it is doing and complete the code\n",
    "# replace all the print('Your code goes here') with the right code.\n",
    "sum = 0\n",
    "counter = 0\n",
    "\n",
    "while 1==1:\n",
    "    inp = input('Enter a number:')\n",
    "    if inp == 'end':\n",
    "        print('Your code goes here')\n",
    "    value = float(inp)\n",
    "    sum = print('Your code goes here')\n",
    "    counter = print('Your code goes here')\n",
    "    \n",
    "average = print('Your code goes here')\n",
    "print('Average:', average)\n",
    "    "
   ]
  },
  {
   "cell_type": "code",
   "execution_count": null,
   "id": "d3951458",
   "metadata": {},
   "outputs": [],
   "source": [
    "#10\n",
    "\"\"\"\n",
    "Write the python program to find the smallest number in this list {3,9,1,6,2,8}\n",
    "\"\"\""
   ]
  }
 ],
 "metadata": {
  "language_info": {
   "name": "python"
  }
 },
 "nbformat": 4,
 "nbformat_minor": 5
}
